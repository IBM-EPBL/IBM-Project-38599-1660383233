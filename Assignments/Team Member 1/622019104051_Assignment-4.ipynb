{
 "cells": [
  {
   "cell_type": "markdown",
   "id": "c335bb92",
   "metadata": {},
   "source": [
    "# Problem Statement :Customer Segmentation Analysis"
   ]
  },
  {
   "cell_type": "markdown",
   "id": "6fc680c1",
   "metadata": {},
   "source": [
    "# Download the dataset "
   ]
  },
  {
   "cell_type": "code",
   "execution_count": 8,
   "id": "cf507d3f",
   "metadata": {},
   "outputs": [],
   "source": [
    "import pandas as pd\n",
    "import numpy as np\n",
    "import seaborn as sns \n",
    "from matplotlib import pyplot as plt \n",
    "from sklearn.preprocessing import scale \n",
    "import warnings \n",
    "warnings.filterwarnings('ignore')"
   ]
  },
  {
   "cell_type": "markdown",
   "id": "28c127b1",
   "metadata": {},
   "source": [
    "# load the dataset into the tool"
   ]
  },
  {
   "cell_type": "code",
   "execution_count": 16,
   "id": "28b5ed15",
   "metadata": {},
   "outputs": [
    {
     "data": {
      "text/html": [
       "<div>\n",
       "<style scoped>\n",
       "    .dataframe tbody tr th:only-of-type {\n",
       "        vertical-align: middle;\n",
       "    }\n",
       "\n",
       "    .dataframe tbody tr th {\n",
       "        vertical-align: top;\n",
       "    }\n",
       "\n",
       "    .dataframe thead th {\n",
       "        text-align: right;\n",
       "    }\n",
       "</style>\n",
       "<table border=\"1\" class=\"dataframe\">\n",
       "  <thead>\n",
       "    <tr style=\"text-align: right;\">\n",
       "      <th></th>\n",
       "      <th>CustomerID</th>\n",
       "      <th>Gender</th>\n",
       "      <th>Age</th>\n",
       "      <th>Annual Income (k$)</th>\n",
       "      <th>Spending Score (1-100)</th>\n",
       "    </tr>\n",
       "  </thead>\n",
       "  <tbody>\n",
       "    <tr>\n",
       "      <th>0</th>\n",
       "      <td>1</td>\n",
       "      <td>Male</td>\n",
       "      <td>19</td>\n",
       "      <td>15</td>\n",
       "      <td>39</td>\n",
       "    </tr>\n",
       "    <tr>\n",
       "      <th>1</th>\n",
       "      <td>2</td>\n",
       "      <td>Male</td>\n",
       "      <td>21</td>\n",
       "      <td>15</td>\n",
       "      <td>81</td>\n",
       "    </tr>\n",
       "    <tr>\n",
       "      <th>2</th>\n",
       "      <td>3</td>\n",
       "      <td>Female</td>\n",
       "      <td>20</td>\n",
       "      <td>16</td>\n",
       "      <td>6</td>\n",
       "    </tr>\n",
       "    <tr>\n",
       "      <th>3</th>\n",
       "      <td>4</td>\n",
       "      <td>Female</td>\n",
       "      <td>23</td>\n",
       "      <td>16</td>\n",
       "      <td>77</td>\n",
       "    </tr>\n",
       "    <tr>\n",
       "      <th>4</th>\n",
       "      <td>5</td>\n",
       "      <td>Female</td>\n",
       "      <td>31</td>\n",
       "      <td>17</td>\n",
       "      <td>40</td>\n",
       "    </tr>\n",
       "  </tbody>\n",
       "</table>\n",
       "</div>"
      ],
      "text/plain": [
       "   CustomerID  Gender  Age  Annual Income (k$)  Spending Score (1-100)\n",
       "0           1    Male   19                  15                      39\n",
       "1           2    Male   21                  15                      81\n",
       "2           3  Female   20                  16                       6\n",
       "3           4  Female   23                  16                      77\n",
       "4           5  Female   31                  17                      40"
      ]
     },
     "execution_count": 16,
     "metadata": {},
     "output_type": "execute_result"
    }
   ],
   "source": [
    "data=pd.read_csv('Mall_Customers.csv')\n",
    "data.head()"
   ]
  },
  {
   "cell_type": "code",
   "execution_count": 17,
   "id": "5b497e6f",
   "metadata": {},
   "outputs": [
    {
     "data": {
      "text/plain": [
       "(200, 5)"
      ]
     },
     "execution_count": 17,
     "metadata": {},
     "output_type": "execute_result"
    }
   ],
   "source": [
    "data.shape"
   ]
  },
  {
   "cell_type": "code",
   "execution_count": 18,
   "id": "708c6c34",
   "metadata": {},
   "outputs": [
    {
     "data": {
      "text/plain": [
       "1000"
      ]
     },
     "execution_count": 18,
     "metadata": {},
     "output_type": "execute_result"
    }
   ],
   "source": [
    "data.size"
   ]
  },
  {
   "cell_type": "code",
   "execution_count": 19,
   "id": "db5cbd70",
   "metadata": {},
   "outputs": [
    {
     "name": "stdout",
     "output_type": "stream",
     "text": [
      "<class 'pandas.core.frame.DataFrame'>\n",
      "RangeIndex: 200 entries, 0 to 199\n",
      "Data columns (total 5 columns):\n",
      " #   Column                  Non-Null Count  Dtype \n",
      "---  ------                  --------------  ----- \n",
      " 0   CustomerID              200 non-null    int64 \n",
      " 1   Gender                  200 non-null    object\n",
      " 2   Age                     200 non-null    int64 \n",
      " 3   Annual Income (k$)      200 non-null    int64 \n",
      " 4   Spending Score (1-100)  200 non-null    int64 \n",
      "dtypes: int64(4), object(1)\n",
      "memory usage: 7.9+ KB\n"
     ]
    }
   ],
   "source": [
    "data.info()"
   ]
  },
  {
   "cell_type": "markdown",
   "id": "7abe6a99",
   "metadata": {},
   "source": [
    "# Perform Below Visulizations"
   ]
  },
  {
   "cell_type": "markdown",
   "id": "13c12e41",
   "metadata": {},
   "source": [
    "Univariate Analysis"
   ]
  },
  {
   "cell_type": "code",
   "execution_count": 20,
   "id": "edb95b34",
   "metadata": {},
   "outputs": [
    {
     "data": {
      "image/png": "[encoded data removed]",
      "text/plain": [
       "<Figure size 1440x720 with 8 Axes>"
      ]
     },
     "metadata": {
      "needs_background": "light"
     },
     "output_type": "display_data"
    }
   ],
   "source": [
    "data.hist(figsize=(20,10), grid=False, layout=(2,4),bins=30)\n",
    "plt.show()"
   ]
  },
  {
   "cell_type": "code",
   "execution_count": 21,
   "id": "d505cb1d",
   "metadata": {},
   "outputs": [
    {
     "data": {
      "text/plain": [
       "<AxesSubplot: ylabel='Frequency'>"
      ]
     },
     "execution_count": 21,
     "metadata": {},
     "output_type": "execute_result"
    },
    {
     "data": {
      "image/png": "[encoded data removed]",
      "text/plain": [
       "<Figure size 432x288 with 1 Axes>"
      ]
     },
     "metadata": {
      "needs_background": "light"
     },
     "output_type": "display_data"
    }
   ],
   "source": [
    "data[\"Annual Income (k$)\"].plot(kind='hist')"
   ]
  },
  {
   "cell_type": "markdown",
   "id": "16a2e8b5",
   "metadata": {},
   "source": [
    "Bi-variate Analysis"
   ]
  },
  {
   "cell_type": "code",
   "execution_count": 23,
   "id": "1c4b06b9",
   "metadata": {},
   "outputs": [
    {
     "data": {
      "text/plain": [
       "Text(0, 0.5, 'Annual Income (k$)')"
      ]
     },
     "execution_count": 23,
     "metadata": {},
     "output_type": "execute_result"
    },
    {
     "data": {
      "image/png": "[encoded data removed]",
      "text/plain": [
       "<Figure size 432x288 with 1 Axes>"
      ]
     },
     "metadata": {
      "needs_background": "light"
     },
     "output_type": "display_data"
    }
   ],
   "source": [
    "plt.scatter(df['Age'],df['Annual Income (k$)'],color='green')\n",
    "plt.xlabel(\"Age\")\n",
    "plt.ylabel(\"Annual Income (k$)\")"
   ]
  },
  {
   "cell_type": "markdown",
   "id": "c364a3da",
   "metadata": {},
   "source": [
    "Multi -Variate Analysis"
   ]
  },
  {
   "cell_type": "code",
   "execution_count": 24,
   "id": "2a79307f",
   "metadata": {},
   "outputs": [
    {
     "data": {
      "text/plain": [
       "<seaborn.axisgrid.PairGrid at 0x239c68991b0>"
      ]
     },
     "execution_count": 24,
     "metadata": {},
     "output_type": "execute_result"
    },
    {
     "data": {
      "image/png": "[encoded data removed]",
      "text/plain": [
       "<Figure size 720x720 with 20 Axes>"
      ]
     },
     "metadata": {
      "needs_background": "light"
     },
     "output_type": "display_data"
    }
   ],
   "source": [
    "sns.pairplot(df)"
   ]
  },
  {
   "cell_type": "markdown",
   "id": "e1d0913c",
   "metadata": {},
   "source": [
    "# Perform descriptive statistics on the dataset"
   ]
  },
  {
   "cell_type": "code",
   "execution_count": 25,
   "id": "0068eb96",
   "metadata": {},
   "outputs": [
    {
     "data": {
      "text/html": [
       "<div>\n",
       "<style scoped>\n",
       "    .dataframe tbody tr th:only-of-type {\n",
       "        vertical-align: middle;\n",
       "    }\n",
       "\n",
       "    .dataframe tbody tr th {\n",
       "        vertical-align: top;\n",
       "    }\n",
       "\n",
       "    .dataframe thead th {\n",
       "        text-align: right;\n",
       "    }\n",
       "</style>\n",
       "<table border=\"1\" class=\"dataframe\">\n",
       "  <thead>\n",
       "    <tr style=\"text-align: right;\">\n",
       "      <th></th>\n",
       "      <th>CustomerID</th>\n",
       "      <th>Age</th>\n",
       "      <th>Annual Income (k$)</th>\n",
       "      <th>Spending Score (1-100)</th>\n",
       "    </tr>\n",
       "  </thead>\n",
       "  <tbody>\n",
       "    <tr>\n",
       "      <th>count</th>\n",
       "      <td>200.000000</td>\n",
       "      <td>200.000000</td>\n",
       "      <td>200.000000</td>\n",
       "      <td>200.000000</td>\n",
       "    </tr>\n",
       "    <tr>\n",
       "      <th>mean</th>\n",
       "      <td>100.500000</td>\n",
       "      <td>38.850000</td>\n",
       "      <td>60.560000</td>\n",
       "      <td>50.200000</td>\n",
       "    </tr>\n",
       "    <tr>\n",
       "      <th>std</th>\n",
       "      <td>57.879185</td>\n",
       "      <td>13.969007</td>\n",
       "      <td>26.264721</td>\n",
       "      <td>25.823522</td>\n",
       "    </tr>\n",
       "    <tr>\n",
       "      <th>min</th>\n",
       "      <td>1.000000</td>\n",
       "      <td>18.000000</td>\n",
       "      <td>15.000000</td>\n",
       "      <td>1.000000</td>\n",
       "    </tr>\n",
       "    <tr>\n",
       "      <th>25%</th>\n",
       "      <td>50.750000</td>\n",
       "      <td>28.750000</td>\n",
       "      <td>41.500000</td>\n",
       "      <td>34.750000</td>\n",
       "    </tr>\n",
       "    <tr>\n",
       "      <th>50%</th>\n",
       "      <td>100.500000</td>\n",
       "      <td>36.000000</td>\n",
       "      <td>61.500000</td>\n",
       "      <td>50.000000</td>\n",
       "    </tr>\n",
       "    <tr>\n",
       "      <th>75%</th>\n",
       "      <td>150.250000</td>\n",
       "      <td>49.000000</td>\n",
       "      <td>78.000000</td>\n",
       "      <td>73.000000</td>\n",
       "    </tr>\n",
       "    <tr>\n",
       "      <th>max</th>\n",
       "      <td>200.000000</td>\n",
       "      <td>70.000000</td>\n",
       "      <td>137.000000</td>\n",
       "      <td>99.000000</td>\n",
       "    </tr>\n",
       "  </tbody>\n",
       "</table>\n",
       "</div>"
      ],
      "text/plain": [
       "       CustomerID         Age  Annual Income (k$)  Spending Score (1-100)\n",
       "count  200.000000  200.000000          200.000000              200.000000\n",
       "mean   100.500000   38.850000           60.560000               50.200000\n",
       "std     57.879185   13.969007           26.264721               25.823522\n",
       "min      1.000000   18.000000           15.000000                1.000000\n",
       "25%     50.750000   28.750000           41.500000               34.750000\n",
       "50%    100.500000   36.000000           61.500000               50.000000\n",
       "75%    150.250000   49.000000           78.000000               73.000000\n",
       "max    200.000000   70.000000          137.000000               99.000000"
      ]
     },
     "execution_count": 25,
     "metadata": {},
     "output_type": "execute_result"
    }
   ],
   "source": [
    "data.describe()"
   ]
  },
  {
   "cell_type": "markdown",
   "id": "6d56dd85",
   "metadata": {},
   "source": [
    "# Check for Missing values and deal with them"
   ]
  },
  {
   "cell_type": "code",
   "execution_count": 26,
   "id": "c1019629",
   "metadata": {},
   "outputs": [
    {
     "data": {
      "text/plain": [
       "CustomerID                0\n",
       "Gender                    0\n",
       "Age                       0\n",
       "Annual Income (k$)        0\n",
       "Spending Score (1-100)    0\n",
       "dtype: int64"
      ]
     },
     "execution_count": 26,
     "metadata": {},
     "output_type": "execute_result"
    }
   ],
   "source": [
    "data.isna().sum()"
   ]
  },
  {
   "cell_type": "markdown",
   "id": "f26de5b1",
   "metadata": {},
   "source": [
    "# Find the outliers and replace them outliers."
   ]
  },
  {
   "cell_type": "code",
   "execution_count": 27,
   "id": "c74425e8",
   "metadata": {},
   "outputs": [
    {
     "data": {
      "text/plain": [
       "CustomerID                0.000000\n",
       "Age                       0.485569\n",
       "Annual Income (k$)        0.321843\n",
       "Spending Score (1-100)   -0.047220\n",
       "dtype: float64"
      ]
     },
     "execution_count": 27,
     "metadata": {},
     "output_type": "execute_result"
    }
   ],
   "source": [
    "data.skew()"
   ]
  },
  {
   "cell_type": "code",
   "execution_count": 28,
   "id": "c35d517f",
   "metadata": {},
   "outputs": [
    {
     "data": {
      "text/plain": [
       "<AxesSubplot: xlabel='Age'>"
      ]
     },
     "execution_count": 28,
     "metadata": {},
     "output_type": "execute_result"
    },
    {
     "data": {
      "image/png": "[encoded data removed]",
      "text/plain": [
       "<Figure size 432x288 with 1 Axes>"
      ]
     },
     "metadata": {
      "needs_background": "light"
     },
     "output_type": "display_data"
    }
   ],
   "source": [
    "sns.boxplot(x=data['Age'],data=data)"
   ]
  },
  {
   "cell_type": "code",
   "execution_count": 29,
   "id": "6e4f92d3",
   "metadata": {},
   "outputs": [
    {
     "data": {
      "text/plain": [
       "<AxesSubplot: >"
      ]
     },
     "execution_count": 29,
     "metadata": {},
     "output_type": "execute_result"
    },
    {
     "data": {
      "image/png": "[encoded data removed]",
      "text/plain": [
       "<Figure size 432x288 with 1 Axes>"
      ]
     },
     "metadata": {
      "needs_background": "light"
     },
     "output_type": "display_data"
    }
   ],
   "source": [
    "data['Age'].hist()"
   ]
  },
  {
   "cell_type": "code",
   "execution_count": 30,
   "id": "b08bc311",
   "metadata": {},
   "outputs": [
    {
     "name": "stdout",
     "output_type": "stream",
     "text": [
      "skewness value of Age: 0.48556885096681657\n"
     ]
    }
   ],
   "source": [
    "print('skewness value of Age:',data['Age'].skew())"
   ]
  },
  {
   "cell_type": "code",
   "execution_count": 31,
   "id": "710c129c",
   "metadata": {},
   "outputs": [
    {
     "data": {
      "text/plain": [
       "<AxesSubplot: xlabel='Age'>"
      ]
     },
     "execution_count": 31,
     "metadata": {},
     "output_type": "execute_result"
    },
    {
     "data": {
      "image/png": "[encoded data removed]",
      "text/plain": [
       "<Figure size 432x288 with 1 Axes>"
      ]
     },
     "metadata": {
      "needs_background": "light"
     },
     "output_type": "display_data"
    }
   ],
   "source": [
    "sns.boxplot(x=data['Age'],data=data)"
   ]
  },
  {
   "cell_type": "markdown",
   "id": "835c4d81",
   "metadata": {},
   "source": [
    "# Check for Categorical columns and perform encoding"
   ]
  },
  {
   "cell_type": "code",
   "execution_count": 32,
   "id": "248877c0",
   "metadata": {},
   "outputs": [
    {
     "data": {
      "text/plain": [
       "<bound method DataFrame.info of      CustomerID  Gender  Age  Annual Income (k$)  Spending Score (1-100)\n",
       "0             1    Male   19                  15                      39\n",
       "1             2    Male   21                  15                      81\n",
       "2             3  Female   20                  16                       6\n",
       "3             4  Female   23                  16                      77\n",
       "4             5  Female   31                  17                      40\n",
       "..          ...     ...  ...                 ...                     ...\n",
       "195         196  Female   35                 120                      79\n",
       "196         197  Female   45                 126                      28\n",
       "197         198    Male   32                 126                      74\n",
       "198         199    Male   32                 137                      18\n",
       "199         200    Male   30                 137                      83\n",
       "\n",
       "[200 rows x 5 columns]>"
      ]
     },
     "execution_count": 32,
     "metadata": {},
     "output_type": "execute_result"
    }
   ],
   "source": [
    "data.info"
   ]
  },
  {
   "cell_type": "code",
   "execution_count": 33,
   "id": "317ea403",
   "metadata": {},
   "outputs": [
    {
     "data": {
      "text/html": [
       "<div>\n",
       "<style scoped>\n",
       "    .dataframe tbody tr th:only-of-type {\n",
       "        vertical-align: middle;\n",
       "    }\n",
       "\n",
       "    .dataframe tbody tr th {\n",
       "        vertical-align: top;\n",
       "    }\n",
       "\n",
       "    .dataframe thead th {\n",
       "        text-align: right;\n",
       "    }\n",
       "</style>\n",
       "<table border=\"1\" class=\"dataframe\">\n",
       "  <thead>\n",
       "    <tr style=\"text-align: right;\">\n",
       "      <th></th>\n",
       "      <th>CustomerID</th>\n",
       "      <th>Gender</th>\n",
       "      <th>Age</th>\n",
       "      <th>Annual Income (k$)</th>\n",
       "      <th>Spending Score (1-100)</th>\n",
       "    </tr>\n",
       "  </thead>\n",
       "  <tbody>\n",
       "    <tr>\n",
       "      <th>0</th>\n",
       "      <td>1</td>\n",
       "      <td>1</td>\n",
       "      <td>19</td>\n",
       "      <td>15</td>\n",
       "      <td>39</td>\n",
       "    </tr>\n",
       "    <tr>\n",
       "      <th>1</th>\n",
       "      <td>2</td>\n",
       "      <td>1</td>\n",
       "      <td>21</td>\n",
       "      <td>15</td>\n",
       "      <td>81</td>\n",
       "    </tr>\n",
       "    <tr>\n",
       "      <th>2</th>\n",
       "      <td>3</td>\n",
       "      <td>0</td>\n",
       "      <td>20</td>\n",
       "      <td>16</td>\n",
       "      <td>6</td>\n",
       "    </tr>\n",
       "    <tr>\n",
       "      <th>3</th>\n",
       "      <td>4</td>\n",
       "      <td>0</td>\n",
       "      <td>23</td>\n",
       "      <td>16</td>\n",
       "      <td>77</td>\n",
       "    </tr>\n",
       "    <tr>\n",
       "      <th>4</th>\n",
       "      <td>5</td>\n",
       "      <td>0</td>\n",
       "      <td>31</td>\n",
       "      <td>17</td>\n",
       "      <td>40</td>\n",
       "    </tr>\n",
       "  </tbody>\n",
       "</table>\n",
       "</div>"
      ],
      "text/plain": [
       "   CustomerID  Gender  Age  Annual Income (k$)  Spending Score (1-100)\n",
       "0           1       1   19                  15                      39\n",
       "1           2       1   21                  15                      81\n",
       "2           3       0   20                  16                       6\n",
       "3           4       0   23                  16                      77\n",
       "4           5       0   31                  17                      40"
      ]
     },
     "execution_count": 33,
     "metadata": {},
     "output_type": "execute_result"
    }
   ],
   "source": [
    "from sklearn.preprocessing import LabelEncoder\n",
    "le=LabelEncoder()\n",
    "data['Gender']=le.fit_transform(data['Gender'])\n",
    "data.head()"
   ]
  },
  {
   "cell_type": "code",
   "execution_count": 34,
   "id": "b5924b70",
   "metadata": {},
   "outputs": [
    {
     "data": {
      "text/plain": [
       "array([1, 0])"
      ]
     },
     "execution_count": 34,
     "metadata": {},
     "output_type": "execute_result"
    }
   ],
   "source": [
    "data[\"Gender\"].unique()"
   ]
  },
  {
   "cell_type": "markdown",
   "id": "9b6bb4d6",
   "metadata": {},
   "source": [
    "# Scaling the Data"
   ]
  },
  {
   "cell_type": "code",
   "execution_count": 35,
   "id": "ceab6343",
   "metadata": {},
   "outputs": [
    {
     "name": "stdout",
     "output_type": "stream",
     "text": [
      "     CustomerID  Annual Income (k$)  Spending Score (1-100)\n",
      "0             1                  15                      39\n",
      "1             2                  15                      81\n",
      "2             3                  16                       6\n",
      "3             4                  16                      77\n",
      "4             5                  17                      40\n",
      "..          ...                 ...                     ...\n",
      "195         196                 120                      79\n",
      "196         197                 126                      28\n",
      "197         198                 126                      74\n",
      "198         199                 137                      18\n",
      "199         200                 137                      83\n",
      "\n",
      "[200 rows x 3 columns]\n"
     ]
    }
   ],
   "source": [
    "x=data.drop(columns=['Gender','Age'])\n",
    "print(x)"
   ]
  },
  {
   "cell_type": "code",
   "execution_count": 36,
   "id": "c007be96",
   "metadata": {},
   "outputs": [
    {
     "name": "stdout",
     "output_type": "stream",
     "text": [
      "[[-1.7234121  -1.73899919 -0.43480148]\n",
      " [-1.70609137 -1.73899919  1.19570407]\n",
      " [-1.68877065 -1.70082976 -1.71591298]\n",
      " [-1.67144992 -1.70082976  1.04041783]\n",
      " [-1.6541292  -1.66266033 -0.39597992]\n",
      " [-1.63680847 -1.66266033  1.00159627]\n",
      " [-1.61948775 -1.62449091 -1.71591298]\n",
      " [-1.60216702 -1.62449091  1.70038436]\n",
      " [-1.5848463  -1.58632148 -1.83237767]\n",
      " [-1.56752558 -1.58632148  0.84631002]\n",
      " [-1.55020485 -1.58632148 -1.4053405 ]\n",
      " [-1.53288413 -1.58632148  1.89449216]\n",
      " [-1.5155634  -1.54815205 -1.36651894]\n",
      " [-1.49824268 -1.54815205  1.04041783]\n",
      " [-1.48092195 -1.54815205 -1.44416206]\n",
      " [-1.46360123 -1.54815205  1.11806095]\n",
      " [-1.4462805  -1.50998262 -0.59008772]\n",
      " [-1.42895978 -1.50998262  0.61338066]\n",
      " [-1.41163905 -1.43364376 -0.82301709]\n",
      " [-1.39431833 -1.43364376  1.8556706 ]\n",
      " [-1.3769976  -1.39547433 -0.59008772]\n",
      " [-1.35967688 -1.39547433  0.88513158]\n",
      " [-1.34235616 -1.3573049  -1.75473454]\n",
      " [-1.32503543 -1.3573049   0.88513158]\n",
      " [-1.30771471 -1.24279661 -1.4053405 ]\n",
      " [-1.29039398 -1.24279661  1.23452563]\n",
      " [-1.27307326 -1.24279661 -0.7065524 ]\n",
      " [-1.25575253 -1.24279661  0.41927286]\n",
      " [-1.23843181 -1.20462718 -0.74537397]\n",
      " [-1.22111108 -1.20462718  1.42863343]\n",
      " [-1.20379036 -1.16645776 -1.7935561 ]\n",
      " [-1.18646963 -1.16645776  0.88513158]\n",
      " [-1.16914891 -1.05194947 -1.7935561 ]\n",
      " [-1.15182818 -1.05194947  1.62274124]\n",
      " [-1.13450746 -1.05194947 -1.4053405 ]\n",
      " [-1.11718674 -1.05194947  1.19570407]\n",
      " [-1.09986601 -1.01378004 -1.28887582]\n",
      " [-1.08254529 -1.01378004  0.88513158]\n",
      " [-1.06522456 -0.89927175 -0.93948177]\n",
      " [-1.04790384 -0.89927175  0.96277471]\n",
      " [-1.03058311 -0.86110232 -0.59008772]\n",
      " [-1.01326239 -0.86110232  1.62274124]\n",
      " [-0.99594166 -0.82293289 -0.55126616]\n",
      " [-0.97862094 -0.82293289  0.41927286]\n",
      " [-0.96130021 -0.82293289 -0.86183865]\n",
      " [-0.94397949 -0.82293289  0.5745591 ]\n",
      " [-0.92665877 -0.78476346  0.18634349]\n",
      " [-0.90933804 -0.78476346 -0.12422899]\n",
      " [-0.89201732 -0.78476346 -0.3183368 ]\n",
      " [-0.87469659 -0.78476346 -0.3183368 ]\n",
      " [-0.85737587 -0.70842461  0.06987881]\n",
      " [-0.84005514 -0.70842461  0.38045129]\n",
      " [-0.82273442 -0.67025518  0.14752193]\n",
      " [-0.80541369 -0.67025518  0.38045129]\n",
      " [-0.78809297 -0.67025518 -0.20187212]\n",
      " [-0.77077224 -0.67025518 -0.35715836]\n",
      " [-0.75345152 -0.63208575 -0.00776431]\n",
      " [-0.73613079 -0.63208575 -0.16305055]\n",
      " [-0.71881007 -0.55574689  0.03105725]\n",
      " [-0.70148935 -0.55574689 -0.16305055]\n",
      " [-0.68416862 -0.55574689  0.22516505]\n",
      " [-0.6668479  -0.55574689  0.18634349]\n",
      " [-0.64952717 -0.51757746  0.06987881]\n",
      " [-0.63220645 -0.51757746  0.34162973]\n",
      " [-0.61488572 -0.47940803  0.03105725]\n",
      " [-0.597565   -0.47940803  0.34162973]\n",
      " [-0.58024427 -0.47940803 -0.00776431]\n",
      " [-0.56292355 -0.47940803 -0.08540743]\n",
      " [-0.54560282 -0.47940803  0.34162973]\n",
      " [-0.5282821  -0.47940803 -0.12422899]\n",
      " [-0.51096138 -0.4412386   0.18634349]\n",
      " [-0.49364065 -0.4412386  -0.3183368 ]\n",
      " [-0.47631993 -0.40306917 -0.04658587]\n",
      " [-0.4589992  -0.40306917  0.22516505]\n",
      " [-0.44167848 -0.25039146 -0.12422899]\n",
      " [-0.42435775 -0.25039146  0.14752193]\n",
      " [-0.40703703 -0.25039146  0.10870037]\n",
      " [-0.3897163  -0.25039146 -0.08540743]\n",
      " [-0.37239558 -0.25039146  0.06987881]\n",
      " [-0.35507485 -0.25039146 -0.3183368 ]\n",
      " [-0.33775413 -0.25039146  0.03105725]\n",
      " [-0.3204334  -0.25039146  0.18634349]\n",
      " [-0.30311268 -0.25039146 -0.35715836]\n",
      " [-0.28579196 -0.25039146 -0.24069368]\n",
      " [-0.26847123 -0.25039146  0.26398661]\n",
      " [-0.25115051 -0.25039146 -0.16305055]\n",
      " [-0.23382978 -0.13588317  0.30280817]\n",
      " [-0.21650906 -0.13588317  0.18634349]\n",
      " [-0.19918833 -0.09771374  0.38045129]\n",
      " [-0.18186761 -0.09771374 -0.16305055]\n",
      " [-0.16454688 -0.05954431  0.18634349]\n",
      " [-0.14722616 -0.05954431 -0.35715836]\n",
      " [-0.12990543 -0.02137488 -0.04658587]\n",
      " [-0.11258471 -0.02137488 -0.39597992]\n",
      " [-0.09526399 -0.02137488 -0.3183368 ]\n",
      " [-0.07794326 -0.02137488  0.06987881]\n",
      " [-0.06062254 -0.02137488 -0.12422899]\n",
      " [-0.04330181 -0.02137488 -0.00776431]\n",
      " [-0.02598109  0.01679455 -0.3183368 ]\n",
      " [-0.00866036  0.01679455 -0.04658587]\n",
      " [ 0.00866036  0.05496398 -0.35715836]\n",
      " [ 0.02598109  0.05496398 -0.08540743]\n",
      " [ 0.04330181  0.05496398  0.34162973]\n",
      " [ 0.06062254  0.05496398  0.18634349]\n",
      " [ 0.07794326  0.05496398  0.22516505]\n",
      " [ 0.09526399  0.05496398 -0.3183368 ]\n",
      " [ 0.11258471  0.09313341 -0.00776431]\n",
      " [ 0.12990543  0.09313341 -0.16305055]\n",
      " [ 0.14722616  0.09313341 -0.27951524]\n",
      " [ 0.16454688  0.09313341 -0.08540743]\n",
      " [ 0.18186761  0.09313341  0.06987881]\n",
      " [ 0.19918833  0.09313341  0.14752193]\n",
      " [ 0.21650906  0.13130284 -0.3183368 ]\n",
      " [ 0.23382978  0.13130284 -0.16305055]\n",
      " [ 0.25115051  0.16947227 -0.08540743]\n",
      " [ 0.26847123  0.16947227 -0.00776431]\n",
      " [ 0.28579196  0.16947227 -0.27951524]\n",
      " [ 0.30311268  0.16947227  0.34162973]\n",
      " [ 0.3204334   0.24581112 -0.27951524]\n",
      " [ 0.33775413  0.24581112  0.26398661]\n",
      " [ 0.35507485  0.24581112  0.22516505]\n",
      " [ 0.37239558  0.24581112 -0.39597992]\n",
      " [ 0.3897163   0.32214998  0.30280817]\n",
      " [ 0.40703703  0.32214998  1.58391968]\n",
      " [ 0.42435775  0.36031941 -0.82301709]\n",
      " [ 0.44167848  0.36031941  1.04041783]\n",
      " [ 0.4589992   0.39848884 -0.59008772]\n",
      " [ 0.47631993  0.39848884  1.73920592]\n",
      " [ 0.49364065  0.39848884 -1.52180518]\n",
      " [ 0.51096138  0.39848884  0.96277471]\n",
      " [ 0.5282821   0.39848884 -1.5994483 ]\n",
      " [ 0.54560282  0.39848884  0.96277471]\n",
      " [ 0.56292355  0.43665827 -0.62890928]\n",
      " [ 0.58024427  0.43665827  0.80748846]\n",
      " [ 0.597565    0.4748277  -1.75473454]\n",
      " [ 0.61488572  0.4748277   1.46745499]\n",
      " [ 0.63220645  0.4748277  -1.67709142]\n",
      " [ 0.64952717  0.4748277   0.88513158]\n",
      " [ 0.6668479   0.51299713 -1.56062674]\n",
      " [ 0.68416862  0.51299713  0.84631002]\n",
      " [ 0.70148935  0.55116656 -1.75473454]\n",
      " [ 0.71881007  0.55116656  1.6615628 ]\n",
      " [ 0.73613079  0.58933599 -0.39597992]\n",
      " [ 0.75345152  0.58933599  1.42863343]\n",
      " [ 0.77077224  0.62750542 -1.48298362]\n",
      " [ 0.78809297  0.62750542  1.81684904]\n",
      " [ 0.80541369  0.62750542 -0.55126616]\n",
      " [ 0.82273442  0.62750542  0.92395314]\n",
      " [ 0.84005514  0.66567484 -1.09476801]\n",
      " [ 0.85737587  0.66567484  1.54509812]\n",
      " [ 0.87469659  0.66567484 -1.28887582]\n",
      " [ 0.89201732  0.66567484  1.46745499]\n",
      " [ 0.90933804  0.66567484 -1.17241113]\n",
      " [ 0.92665877  0.66567484  1.00159627]\n",
      " [ 0.94397949  0.66567484 -1.32769738]\n",
      " [ 0.96130021  0.66567484  1.50627656]\n",
      " [ 0.97862094  0.66567484 -1.91002079]\n",
      " [ 0.99594166  0.66567484  1.07923939]\n",
      " [ 1.01326239  0.66567484 -1.91002079]\n",
      " [ 1.03058311  0.66567484  0.88513158]\n",
      " [ 1.04790384  0.70384427 -0.59008772]\n",
      " [ 1.06522456  0.70384427  1.27334719]\n",
      " [ 1.08254529  0.78018313 -1.75473454]\n",
      " [ 1.09986601  0.78018313  1.6615628 ]\n",
      " [ 1.11718674  0.93286085 -0.93948177]\n",
      " [ 1.13450746  0.93286085  0.96277471]\n",
      " [ 1.15182818  0.97103028 -1.17241113]\n",
      " [ 1.16914891  0.97103028  1.73920592]\n",
      " [ 1.18646963  1.00919971 -0.90066021]\n",
      " [ 1.20379036  1.00919971  0.49691598]\n",
      " [ 1.22111108  1.00919971 -1.44416206]\n",
      " [ 1.23843181  1.00919971  0.96277471]\n",
      " [ 1.25575253  1.00919971 -1.56062674]\n",
      " [ 1.27307326  1.00919971  1.62274124]\n",
      " [ 1.29039398  1.04736914 -1.44416206]\n",
      " [ 1.30771471  1.04736914  1.38981187]\n",
      " [ 1.32503543  1.04736914 -1.36651894]\n",
      " [ 1.34235616  1.04736914  0.72984534]\n",
      " [ 1.35967688  1.23821628 -1.4053405 ]\n",
      " [ 1.3769976   1.23821628  1.54509812]\n",
      " [ 1.39431833  1.390894   -0.7065524 ]\n",
      " [ 1.41163905  1.390894    1.38981187]\n",
      " [ 1.42895978  1.42906343 -1.36651894]\n",
      " [ 1.4462805   1.42906343  1.46745499]\n",
      " [ 1.46360123  1.46723286 -0.43480148]\n",
      " [ 1.48092195  1.46723286  1.81684904]\n",
      " [ 1.49824268  1.54357172 -1.01712489]\n",
      " [ 1.5155634   1.54357172  0.69102378]\n",
      " [ 1.53288413  1.61991057 -1.28887582]\n",
      " [ 1.55020485  1.61991057  1.35099031]\n",
      " [ 1.56752558  1.61991057 -1.05594645]\n",
      " [ 1.5848463   1.61991057  0.72984534]\n",
      " [ 1.60216702  2.00160487 -1.63826986]\n",
      " [ 1.61948775  2.00160487  1.58391968]\n",
      " [ 1.63680847  2.26879087 -1.32769738]\n",
      " [ 1.6541292   2.26879087  1.11806095]\n",
      " [ 1.67144992  2.49780745 -0.86183865]\n",
      " [ 1.68877065  2.49780745  0.92395314]\n",
      " [ 1.70609137  2.91767117 -1.25005425]\n",
      " [ 1.7234121   2.91767117  1.27334719]]\n"
     ]
    }
   ],
   "source": [
    "S=scale(x)\n",
    "print(S)"
   ]
  },
  {
   "cell_type": "markdown",
   "id": "cd8b4993",
   "metadata": {},
   "source": [
    "# Perform any of the clustering algorithms"
   ]
  },
  {
   "cell_type": "code",
   "execution_count": 37,
   "id": "354e41ec",
   "metadata": {},
   "outputs": [
    {
     "data": {
      "image/png": "[encoded data removed]",
      "text/plain": [
       "<Figure size 432x288 with 1 Axes>"
      ]
     },
     "metadata": {
      "needs_background": "light"
     },
     "output_type": "display_data"
    }
   ],
   "source": [
    "#finding optimal number of clusters using the elbow method  \n",
    "from sklearn.cluster import KMeans  \n",
    "wcss_list= []  #Initializing the list for the values of WCSS  \n",
    "  \n",
    "#Using for loop for iterations from 1 to 10.  \n",
    "for i in range(1, 11):  \n",
    "    kmeans = KMeans(n_clusters=i, init='k-means++', random_state= 42)  \n",
    "    kmeans.fit(x)  \n",
    "    wcss_list.append(kmeans.inertia_)  \n",
    "plt.plot(range(1, 11), wcss_list)  \n",
    "plt.title('The Elobw Method Graph')  \n",
    "plt.xlabel('Number of clusters(k)')  \n",
    "plt.ylabel('wcss_list')  \n",
    "plt.show()"
   ]
  },
  {
   "cell_type": "markdown",
   "id": "ad1ce2c6",
   "metadata": {},
   "source": [
    "# Add the cluster data with the primary dataset"
   ]
  },
  {
   "cell_type": "code",
   "execution_count": 38,
   "id": "7a20842e",
   "metadata": {},
   "outputs": [
    {
     "data": {
      "text/plain": [
       "array([2, 3, 2, 3, 2, 3, 2, 3, 2, 3, 2, 3, 2, 3, 2, 3, 2, 3, 2, 3, 2, 3,\n",
       "       2, 3, 2, 3, 2, 3, 2, 3, 2, 3, 2, 3, 2, 3, 2, 3, 2, 3, 2, 3, 2, 3,\n",
       "       2, 3, 0, 0, 0, 0, 0, 0, 0, 0, 0, 0, 0, 0, 0, 0, 0, 0, 0, 0, 0, 0,\n",
       "       0, 0, 0, 0, 0, 0, 0, 0, 0, 0, 0, 0, 0, 0, 0, 0, 0, 0, 0, 0, 0, 0,\n",
       "       0, 0, 0, 0, 0, 0, 0, 0, 0, 0, 0, 0, 0, 0, 0, 0, 0, 0, 0, 0, 0, 0,\n",
       "       0, 0, 0, 0, 0, 0, 0, 0, 0, 0, 0, 0, 0, 4, 1, 4, 1, 4, 1, 4, 1, 4,\n",
       "       1, 4, 1, 4, 1, 4, 1, 4, 1, 4, 1, 4, 1, 4, 1, 4, 1, 4, 1, 4, 1, 4,\n",
       "       1, 4, 1, 4, 1, 4, 1, 4, 1, 4, 1, 4, 1, 4, 1, 4, 1, 4, 1, 4, 1, 4,\n",
       "       1, 4, 1, 4, 1, 4, 1, 4, 1, 4, 1, 4, 1, 4, 1, 4, 1, 4, 1, 4, 1, 4,\n",
       "       1, 4])"
      ]
     },
     "execution_count": 38,
     "metadata": {},
     "output_type": "execute_result"
    }
   ],
   "source": [
    "kmeans = KMeans(n_clusters=5, init='k-means++', random_state= 42)  \n",
    "clus= kmeans.fit_predict(S)\n",
    "clus"
   ]
  },
  {
   "cell_type": "markdown",
   "id": "22c016ec",
   "metadata": {},
   "source": [
    "# Split the data into dependent and independent variables"
   ]
  },
  {
   "cell_type": "code",
   "execution_count": 39,
   "id": "8b636fe2",
   "metadata": {},
   "outputs": [
    {
     "name": "stdout",
     "output_type": "stream",
     "text": [
      "     CustomerID  Gender  Age  Spending Score (1-100)\n",
      "0             1       1   19                      39\n",
      "1             2       1   21                      81\n",
      "2             3       0   20                       6\n",
      "3             4       0   23                      77\n",
      "4             5       0   31                      40\n",
      "..          ...     ...  ...                     ...\n",
      "195         196       0   35                      79\n",
      "196         197       0   45                      28\n",
      "197         198       1   32                      74\n",
      "198         199       1   32                      18\n",
      "199         200       1   30                      83\n",
      "\n",
      "[200 rows x 4 columns]\n"
     ]
    }
   ],
   "source": [
    "x=data.drop(columns=['Annual Income (k$)'],axis=1)\n",
    "print(x)"
   ]
  },
  {
   "cell_type": "code",
   "execution_count": 40,
   "id": "b809cf63",
   "metadata": {},
   "outputs": [
    {
     "data": {
      "text/plain": [
       "0       15\n",
       "1       15\n",
       "2       16\n",
       "3       16\n",
       "4       17\n",
       "      ... \n",
       "195    120\n",
       "196    126\n",
       "197    126\n",
       "198    137\n",
       "199    137\n",
       "Name: Annual Income (k$), Length: 200, dtype: int64"
      ]
     },
     "execution_count": 40,
     "metadata": {},
     "output_type": "execute_result"
    }
   ],
   "source": [
    "y=data['Annual Income (k$)']\n",
    "y"
   ]
  },
  {
   "cell_type": "markdown",
   "id": "8a14fb0a",
   "metadata": {},
   "source": [
    "# Split the data into training and testing"
   ]
  },
  {
   "cell_type": "code",
   "execution_count": 41,
   "id": "9fad2674",
   "metadata": {},
   "outputs": [
    {
     "data": {
      "text/html": [
       "<div>\n",
       "<style scoped>\n",
       "    .dataframe tbody tr th:only-of-type {\n",
       "        vertical-align: middle;\n",
       "    }\n",
       "\n",
       "    .dataframe tbody tr th {\n",
       "        vertical-align: top;\n",
       "    }\n",
       "\n",
       "    .dataframe thead th {\n",
       "        text-align: right;\n",
       "    }\n",
       "</style>\n",
       "<table border=\"1\" class=\"dataframe\">\n",
       "  <thead>\n",
       "    <tr style=\"text-align: right;\">\n",
       "      <th></th>\n",
       "      <th>CustomerID</th>\n",
       "      <th>Gender</th>\n",
       "      <th>Age</th>\n",
       "      <th>Spending Score (1-100)</th>\n",
       "    </tr>\n",
       "  </thead>\n",
       "  <tbody>\n",
       "    <tr>\n",
       "      <th>116</th>\n",
       "      <td>117</td>\n",
       "      <td>0</td>\n",
       "      <td>63</td>\n",
       "      <td>43</td>\n",
       "    </tr>\n",
       "    <tr>\n",
       "      <th>67</th>\n",
       "      <td>68</td>\n",
       "      <td>0</td>\n",
       "      <td>68</td>\n",
       "      <td>48</td>\n",
       "    </tr>\n",
       "    <tr>\n",
       "      <th>78</th>\n",
       "      <td>79</td>\n",
       "      <td>0</td>\n",
       "      <td>23</td>\n",
       "      <td>52</td>\n",
       "    </tr>\n",
       "    <tr>\n",
       "      <th>42</th>\n",
       "      <td>43</td>\n",
       "      <td>1</td>\n",
       "      <td>48</td>\n",
       "      <td>36</td>\n",
       "    </tr>\n",
       "    <tr>\n",
       "      <th>17</th>\n",
       "      <td>18</td>\n",
       "      <td>1</td>\n",
       "      <td>20</td>\n",
       "      <td>66</td>\n",
       "    </tr>\n",
       "    <tr>\n",
       "      <th>...</th>\n",
       "      <td>...</td>\n",
       "      <td>...</td>\n",
       "      <td>...</td>\n",
       "      <td>...</td>\n",
       "    </tr>\n",
       "    <tr>\n",
       "      <th>133</th>\n",
       "      <td>134</td>\n",
       "      <td>0</td>\n",
       "      <td>31</td>\n",
       "      <td>71</td>\n",
       "    </tr>\n",
       "    <tr>\n",
       "      <th>137</th>\n",
       "      <td>138</td>\n",
       "      <td>1</td>\n",
       "      <td>32</td>\n",
       "      <td>73</td>\n",
       "    </tr>\n",
       "    <tr>\n",
       "      <th>72</th>\n",
       "      <td>73</td>\n",
       "      <td>0</td>\n",
       "      <td>60</td>\n",
       "      <td>49</td>\n",
       "    </tr>\n",
       "    <tr>\n",
       "      <th>140</th>\n",
       "      <td>141</td>\n",
       "      <td>0</td>\n",
       "      <td>57</td>\n",
       "      <td>5</td>\n",
       "    </tr>\n",
       "    <tr>\n",
       "      <th>37</th>\n",
       "      <td>38</td>\n",
       "      <td>0</td>\n",
       "      <td>30</td>\n",
       "      <td>73</td>\n",
       "    </tr>\n",
       "  </tbody>\n",
       "</table>\n",
       "<p>140 rows × 4 columns</p>\n",
       "</div>"
      ],
      "text/plain": [
       "     CustomerID  Gender  Age  Spending Score (1-100)\n",
       "116         117       0   63                      43\n",
       "67           68       0   68                      48\n",
       "78           79       0   23                      52\n",
       "42           43       1   48                      36\n",
       "17           18       1   20                      66\n",
       "..          ...     ...  ...                     ...\n",
       "133         134       0   31                      71\n",
       "137         138       1   32                      73\n",
       "72           73       0   60                      49\n",
       "140         141       0   57                       5\n",
       "37           38       0   30                      73\n",
       "\n",
       "[140 rows x 4 columns]"
      ]
     },
     "execution_count": 41,
     "metadata": {},
     "output_type": "execute_result"
    }
   ],
   "source": [
    "from sklearn.model_selection import train_test_split\n",
    "x_train, x_test,y_train,y_test = train_test_split(x,y, test_size = 0.3,random_state=1)\n",
    "x_train"
   ]
  },
  {
   "cell_type": "code",
   "execution_count": 42,
   "id": "1c97533c",
   "metadata": {},
   "outputs": [
    {
     "data": {
      "text/plain": [
       "(140, 4)"
      ]
     },
     "execution_count": 42,
     "metadata": {},
     "output_type": "execute_result"
    }
   ],
   "source": [
    "x_train.shape"
   ]
  },
  {
   "cell_type": "code",
   "execution_count": 43,
   "id": "848a650d",
   "metadata": {},
   "outputs": [
    {
     "data": {
      "text/html": [
       "<div>\n",
       "<style scoped>\n",
       "    .dataframe tbody tr th:only-of-type {\n",
       "        vertical-align: middle;\n",
       "    }\n",
       "\n",
       "    .dataframe tbody tr th {\n",
       "        vertical-align: top;\n",
       "    }\n",
       "\n",
       "    .dataframe thead th {\n",
       "        text-align: right;\n",
       "    }\n",
       "</style>\n",
       "<table border=\"1\" class=\"dataframe\">\n",
       "  <thead>\n",
       "    <tr style=\"text-align: right;\">\n",
       "      <th></th>\n",
       "      <th>CustomerID</th>\n",
       "      <th>Gender</th>\n",
       "      <th>Age</th>\n",
       "      <th>Spending Score (1-100)</th>\n",
       "    </tr>\n",
       "  </thead>\n",
       "  <tbody>\n",
       "    <tr>\n",
       "      <th>58</th>\n",
       "      <td>59</td>\n",
       "      <td>0</td>\n",
       "      <td>27</td>\n",
       "      <td>51</td>\n",
       "    </tr>\n",
       "    <tr>\n",
       "      <th>40</th>\n",
       "      <td>41</td>\n",
       "      <td>0</td>\n",
       "      <td>65</td>\n",
       "      <td>35</td>\n",
       "    </tr>\n",
       "    <tr>\n",
       "      <th>34</th>\n",
       "      <td>35</td>\n",
       "      <td>0</td>\n",
       "      <td>49</td>\n",
       "      <td>14</td>\n",
       "    </tr>\n",
       "    <tr>\n",
       "      <th>102</th>\n",
       "      <td>103</td>\n",
       "      <td>1</td>\n",
       "      <td>67</td>\n",
       "      <td>59</td>\n",
       "    </tr>\n",
       "    <tr>\n",
       "      <th>184</th>\n",
       "      <td>185</td>\n",
       "      <td>0</td>\n",
       "      <td>41</td>\n",
       "      <td>39</td>\n",
       "    </tr>\n",
       "    <tr>\n",
       "      <th>198</th>\n",
       "      <td>199</td>\n",
       "      <td>1</td>\n",
       "      <td>32</td>\n",
       "      <td>18</td>\n",
       "    </tr>\n",
       "    <tr>\n",
       "      <th>95</th>\n",
       "      <td>96</td>\n",
       "      <td>1</td>\n",
       "      <td>24</td>\n",
       "      <td>52</td>\n",
       "    </tr>\n",
       "    <tr>\n",
       "      <th>4</th>\n",
       "      <td>5</td>\n",
       "      <td>0</td>\n",
       "      <td>31</td>\n",
       "      <td>40</td>\n",
       "    </tr>\n",
       "    <tr>\n",
       "      <th>29</th>\n",
       "      <td>30</td>\n",
       "      <td>0</td>\n",
       "      <td>23</td>\n",
       "      <td>87</td>\n",
       "    </tr>\n",
       "    <tr>\n",
       "      <th>168</th>\n",
       "      <td>169</td>\n",
       "      <td>0</td>\n",
       "      <td>36</td>\n",
       "      <td>27</td>\n",
       "    </tr>\n",
       "    <tr>\n",
       "      <th>171</th>\n",
       "      <td>172</td>\n",
       "      <td>1</td>\n",
       "      <td>28</td>\n",
       "      <td>75</td>\n",
       "    </tr>\n",
       "    <tr>\n",
       "      <th>18</th>\n",
       "      <td>19</td>\n",
       "      <td>1</td>\n",
       "      <td>52</td>\n",
       "      <td>29</td>\n",
       "    </tr>\n",
       "    <tr>\n",
       "      <th>11</th>\n",
       "      <td>12</td>\n",
       "      <td>0</td>\n",
       "      <td>35</td>\n",
       "      <td>99</td>\n",
       "    </tr>\n",
       "    <tr>\n",
       "      <th>89</th>\n",
       "      <td>90</td>\n",
       "      <td>0</td>\n",
       "      <td>50</td>\n",
       "      <td>46</td>\n",
       "    </tr>\n",
       "    <tr>\n",
       "      <th>110</th>\n",
       "      <td>111</td>\n",
       "      <td>1</td>\n",
       "      <td>65</td>\n",
       "      <td>52</td>\n",
       "    </tr>\n",
       "    <tr>\n",
       "      <th>118</th>\n",
       "      <td>119</td>\n",
       "      <td>0</td>\n",
       "      <td>51</td>\n",
       "      <td>43</td>\n",
       "    </tr>\n",
       "    <tr>\n",
       "      <th>159</th>\n",
       "      <td>160</td>\n",
       "      <td>0</td>\n",
       "      <td>30</td>\n",
       "      <td>73</td>\n",
       "    </tr>\n",
       "    <tr>\n",
       "      <th>35</th>\n",
       "      <td>36</td>\n",
       "      <td>0</td>\n",
       "      <td>21</td>\n",
       "      <td>81</td>\n",
       "    </tr>\n",
       "    <tr>\n",
       "      <th>136</th>\n",
       "      <td>137</td>\n",
       "      <td>0</td>\n",
       "      <td>44</td>\n",
       "      <td>7</td>\n",
       "    </tr>\n",
       "    <tr>\n",
       "      <th>59</th>\n",
       "      <td>60</td>\n",
       "      <td>1</td>\n",
       "      <td>53</td>\n",
       "      <td>46</td>\n",
       "    </tr>\n",
       "    <tr>\n",
       "      <th>51</th>\n",
       "      <td>52</td>\n",
       "      <td>1</td>\n",
       "      <td>33</td>\n",
       "      <td>60</td>\n",
       "    </tr>\n",
       "    <tr>\n",
       "      <th>16</th>\n",
       "      <td>17</td>\n",
       "      <td>0</td>\n",
       "      <td>35</td>\n",
       "      <td>35</td>\n",
       "    </tr>\n",
       "    <tr>\n",
       "      <th>44</th>\n",
       "      <td>45</td>\n",
       "      <td>0</td>\n",
       "      <td>49</td>\n",
       "      <td>28</td>\n",
       "    </tr>\n",
       "    <tr>\n",
       "      <th>94</th>\n",
       "      <td>95</td>\n",
       "      <td>0</td>\n",
       "      <td>32</td>\n",
       "      <td>42</td>\n",
       "    </tr>\n",
       "    <tr>\n",
       "      <th>31</th>\n",
       "      <td>32</td>\n",
       "      <td>0</td>\n",
       "      <td>21</td>\n",
       "      <td>73</td>\n",
       "    </tr>\n",
       "    <tr>\n",
       "      <th>162</th>\n",
       "      <td>163</td>\n",
       "      <td>1</td>\n",
       "      <td>19</td>\n",
       "      <td>5</td>\n",
       "    </tr>\n",
       "    <tr>\n",
       "      <th>38</th>\n",
       "      <td>39</td>\n",
       "      <td>0</td>\n",
       "      <td>36</td>\n",
       "      <td>26</td>\n",
       "    </tr>\n",
       "    <tr>\n",
       "      <th>28</th>\n",
       "      <td>29</td>\n",
       "      <td>0</td>\n",
       "      <td>40</td>\n",
       "      <td>31</td>\n",
       "    </tr>\n",
       "    <tr>\n",
       "      <th>193</th>\n",
       "      <td>194</td>\n",
       "      <td>0</td>\n",
       "      <td>38</td>\n",
       "      <td>91</td>\n",
       "    </tr>\n",
       "    <tr>\n",
       "      <th>27</th>\n",
       "      <td>28</td>\n",
       "      <td>1</td>\n",
       "      <td>35</td>\n",
       "      <td>61</td>\n",
       "    </tr>\n",
       "    <tr>\n",
       "      <th>47</th>\n",
       "      <td>48</td>\n",
       "      <td>0</td>\n",
       "      <td>27</td>\n",
       "      <td>47</td>\n",
       "    </tr>\n",
       "    <tr>\n",
       "      <th>165</th>\n",
       "      <td>166</td>\n",
       "      <td>0</td>\n",
       "      <td>36</td>\n",
       "      <td>75</td>\n",
       "    </tr>\n",
       "    <tr>\n",
       "      <th>194</th>\n",
       "      <td>195</td>\n",
       "      <td>0</td>\n",
       "      <td>47</td>\n",
       "      <td>16</td>\n",
       "    </tr>\n",
       "    <tr>\n",
       "      <th>177</th>\n",
       "      <td>178</td>\n",
       "      <td>1</td>\n",
       "      <td>27</td>\n",
       "      <td>69</td>\n",
       "    </tr>\n",
       "    <tr>\n",
       "      <th>176</th>\n",
       "      <td>177</td>\n",
       "      <td>1</td>\n",
       "      <td>58</td>\n",
       "      <td>15</td>\n",
       "    </tr>\n",
       "    <tr>\n",
       "      <th>97</th>\n",
       "      <td>98</td>\n",
       "      <td>0</td>\n",
       "      <td>27</td>\n",
       "      <td>50</td>\n",
       "    </tr>\n",
       "    <tr>\n",
       "      <th>174</th>\n",
       "      <td>175</td>\n",
       "      <td>0</td>\n",
       "      <td>52</td>\n",
       "      <td>13</td>\n",
       "    </tr>\n",
       "    <tr>\n",
       "      <th>73</th>\n",
       "      <td>74</td>\n",
       "      <td>0</td>\n",
       "      <td>60</td>\n",
       "      <td>56</td>\n",
       "    </tr>\n",
       "    <tr>\n",
       "      <th>69</th>\n",
       "      <td>70</td>\n",
       "      <td>0</td>\n",
       "      <td>32</td>\n",
       "      <td>47</td>\n",
       "    </tr>\n",
       "    <tr>\n",
       "      <th>172</th>\n",
       "      <td>173</td>\n",
       "      <td>1</td>\n",
       "      <td>36</td>\n",
       "      <td>10</td>\n",
       "    </tr>\n",
       "    <tr>\n",
       "      <th>108</th>\n",
       "      <td>109</td>\n",
       "      <td>1</td>\n",
       "      <td>68</td>\n",
       "      <td>43</td>\n",
       "    </tr>\n",
       "    <tr>\n",
       "      <th>107</th>\n",
       "      <td>108</td>\n",
       "      <td>1</td>\n",
       "      <td>54</td>\n",
       "      <td>46</td>\n",
       "    </tr>\n",
       "    <tr>\n",
       "      <th>189</th>\n",
       "      <td>190</td>\n",
       "      <td>0</td>\n",
       "      <td>36</td>\n",
       "      <td>85</td>\n",
       "    </tr>\n",
       "    <tr>\n",
       "      <th>14</th>\n",
       "      <td>15</td>\n",
       "      <td>1</td>\n",
       "      <td>37</td>\n",
       "      <td>13</td>\n",
       "    </tr>\n",
       "    <tr>\n",
       "      <th>56</th>\n",
       "      <td>57</td>\n",
       "      <td>0</td>\n",
       "      <td>51</td>\n",
       "      <td>50</td>\n",
       "    </tr>\n",
       "    <tr>\n",
       "      <th>19</th>\n",
       "      <td>20</td>\n",
       "      <td>0</td>\n",
       "      <td>35</td>\n",
       "      <td>98</td>\n",
       "    </tr>\n",
       "    <tr>\n",
       "      <th>114</th>\n",
       "      <td>115</td>\n",
       "      <td>0</td>\n",
       "      <td>18</td>\n",
       "      <td>48</td>\n",
       "    </tr>\n",
       "    <tr>\n",
       "      <th>39</th>\n",
       "      <td>40</td>\n",
       "      <td>0</td>\n",
       "      <td>20</td>\n",
       "      <td>75</td>\n",
       "    </tr>\n",
       "    <tr>\n",
       "      <th>185</th>\n",
       "      <td>186</td>\n",
       "      <td>1</td>\n",
       "      <td>30</td>\n",
       "      <td>97</td>\n",
       "    </tr>\n",
       "    <tr>\n",
       "      <th>124</th>\n",
       "      <td>125</td>\n",
       "      <td>0</td>\n",
       "      <td>23</td>\n",
       "      <td>29</td>\n",
       "    </tr>\n",
       "    <tr>\n",
       "      <th>98</th>\n",
       "      <td>99</td>\n",
       "      <td>1</td>\n",
       "      <td>48</td>\n",
       "      <td>42</td>\n",
       "    </tr>\n",
       "    <tr>\n",
       "      <th>123</th>\n",
       "      <td>124</td>\n",
       "      <td>1</td>\n",
       "      <td>39</td>\n",
       "      <td>91</td>\n",
       "    </tr>\n",
       "    <tr>\n",
       "      <th>119</th>\n",
       "      <td>120</td>\n",
       "      <td>0</td>\n",
       "      <td>50</td>\n",
       "      <td>57</td>\n",
       "    </tr>\n",
       "    <tr>\n",
       "      <th>53</th>\n",
       "      <td>54</td>\n",
       "      <td>1</td>\n",
       "      <td>59</td>\n",
       "      <td>60</td>\n",
       "    </tr>\n",
       "    <tr>\n",
       "      <th>33</th>\n",
       "      <td>34</td>\n",
       "      <td>1</td>\n",
       "      <td>18</td>\n",
       "      <td>92</td>\n",
       "    </tr>\n",
       "    <tr>\n",
       "      <th>179</th>\n",
       "      <td>180</td>\n",
       "      <td>1</td>\n",
       "      <td>35</td>\n",
       "      <td>90</td>\n",
       "    </tr>\n",
       "    <tr>\n",
       "      <th>181</th>\n",
       "      <td>182</td>\n",
       "      <td>0</td>\n",
       "      <td>32</td>\n",
       "      <td>86</td>\n",
       "    </tr>\n",
       "    <tr>\n",
       "      <th>106</th>\n",
       "      <td>107</td>\n",
       "      <td>0</td>\n",
       "      <td>66</td>\n",
       "      <td>50</td>\n",
       "    </tr>\n",
       "    <tr>\n",
       "      <th>199</th>\n",
       "      <td>200</td>\n",
       "      <td>1</td>\n",
       "      <td>30</td>\n",
       "      <td>83</td>\n",
       "    </tr>\n",
       "    <tr>\n",
       "      <th>138</th>\n",
       "      <td>139</td>\n",
       "      <td>1</td>\n",
       "      <td>19</td>\n",
       "      <td>10</td>\n",
       "    </tr>\n",
       "  </tbody>\n",
       "</table>\n",
       "</div>"
      ],
      "text/plain": [
       "     CustomerID  Gender  Age  Spending Score (1-100)\n",
       "58           59       0   27                      51\n",
       "40           41       0   65                      35\n",
       "34           35       0   49                      14\n",
       "102         103       1   67                      59\n",
       "184         185       0   41                      39\n",
       "198         199       1   32                      18\n",
       "95           96       1   24                      52\n",
       "4             5       0   31                      40\n",
       "29           30       0   23                      87\n",
       "168         169       0   36                      27\n",
       "171         172       1   28                      75\n",
       "18           19       1   52                      29\n",
       "11           12       0   35                      99\n",
       "89           90       0   50                      46\n",
       "110         111       1   65                      52\n",
       "118         119       0   51                      43\n",
       "159         160       0   30                      73\n",
       "35           36       0   21                      81\n",
       "136         137       0   44                       7\n",
       "59           60       1   53                      46\n",
       "51           52       1   33                      60\n",
       "16           17       0   35                      35\n",
       "44           45       0   49                      28\n",
       "94           95       0   32                      42\n",
       "31           32       0   21                      73\n",
       "162         163       1   19                       5\n",
       "38           39       0   36                      26\n",
       "28           29       0   40                      31\n",
       "193         194       0   38                      91\n",
       "27           28       1   35                      61\n",
       "47           48       0   27                      47\n",
       "165         166       0   36                      75\n",
       "194         195       0   47                      16\n",
       "177         178       1   27                      69\n",
       "176         177       1   58                      15\n",
       "97           98       0   27                      50\n",
       "174         175       0   52                      13\n",
       "73           74       0   60                      56\n",
       "69           70       0   32                      47\n",
       "172         173       1   36                      10\n",
       "108         109       1   68                      43\n",
       "107         108       1   54                      46\n",
       "189         190       0   36                      85\n",
       "14           15       1   37                      13\n",
       "56           57       0   51                      50\n",
       "19           20       0   35                      98\n",
       "114         115       0   18                      48\n",
       "39           40       0   20                      75\n",
       "185         186       1   30                      97\n",
       "124         125       0   23                      29\n",
       "98           99       1   48                      42\n",
       "123         124       1   39                      91\n",
       "119         120       0   50                      57\n",
       "53           54       1   59                      60\n",
       "33           34       1   18                      92\n",
       "179         180       1   35                      90\n",
       "181         182       0   32                      86\n",
       "106         107       0   66                      50\n",
       "199         200       1   30                      83\n",
       "138         139       1   19                      10"
      ]
     },
     "execution_count": 43,
     "metadata": {},
     "output_type": "execute_result"
    }
   ],
   "source": [
    "x_test"
   ]
  },
  {
   "cell_type": "code",
   "execution_count": 44,
   "id": "6a25deed",
   "metadata": {},
   "outputs": [
    {
     "data": {
      "text/plain": [
       "(60, 4)"
      ]
     },
     "execution_count": 44,
     "metadata": {},
     "output_type": "execute_result"
    }
   ],
   "source": [
    "x_test.shape"
   ]
  },
  {
   "cell_type": "code",
   "execution_count": 45,
   "id": "b15cb9ef",
   "metadata": {},
   "outputs": [
    {
     "data": {
      "text/plain": [
       "116    65\n",
       "67     48\n",
       "78     54\n",
       "42     39\n",
       "17     21\n",
       "       ..\n",
       "133    72\n",
       "137    73\n",
       "72     50\n",
       "140    75\n",
       "37     34\n",
       "Name: Annual Income (k$), Length: 140, dtype: int64"
      ]
     },
     "execution_count": 45,
     "metadata": {},
     "output_type": "execute_result"
    }
   ],
   "source": [
    "y_train"
   ]
  },
  {
   "cell_type": "markdown",
   "id": "ad371f85",
   "metadata": {},
   "source": [
    "# Build the model"
   ]
  },
  {
   "cell_type": "code",
   "execution_count": 46,
   "id": "e88a6d0d",
   "metadata": {},
   "outputs": [],
   "source": [
    "from sklearn.linear_model import LinearRegression\n",
    "LR = LinearRegression()"
   ]
  },
  {
   "cell_type": "markdown",
   "id": "825b171c",
   "metadata": {},
   "source": [
    "# Train the Model"
   ]
  },
  {
   "cell_type": "code",
   "execution_count": 47,
   "id": "03a90922",
   "metadata": {},
   "outputs": [
    {
     "data": {
      "text/html": [
       "<style>#sk-container-id-1 {color: black;background-color: white;}#sk-container-id-1 pre{padding: 0;}#sk-container-id-1 div.sk-toggleable {background-color: white;}#sk-container-id-1 label.sk-toggleable__label {cursor: pointer;display: block;width: 100%;margin-bottom: 0;padding: 0.3em;box-sizing: border-box;text-align: center;}#sk-container-id-1 label.sk-toggleable__label-arrow:before {content: \"▸\";float: left;margin-right: 0.25em;color: #696969;}#sk-container-id-1 label.sk-toggleable__label-arrow:hover:before {color: black;}#sk-container-id-1 div.sk-estimator:hover label.sk-toggleable__label-arrow:before {color: black;}#sk-container-id-1 div.sk-toggleable__content {max-height: 0;max-width: 0;overflow: hidden;text-align: left;background-color: #f0f8ff;}#sk-container-id-1 div.sk-toggleable__content pre {margin: 0.2em;color: black;border-radius: 0.25em;background-color: #f0f8ff;}#sk-container-id-1 input.sk-toggleable__control:checked~div.sk-toggleable__content {max-height: 200px;max-width: 100%;overflow: auto;}#sk-container-id-1 input.sk-toggleable__control:checked~label.sk-toggleable__label-arrow:before {content: \"▾\";}#sk-container-id-1 div.sk-estimator input.sk-toggleable__control:checked~label.sk-toggleable__label {background-color: #d4ebff;}#sk-container-id-1 div.sk-label input.sk-toggleable__control:checked~label.sk-toggleable__label {background-color: #d4ebff;}#sk-container-id-1 input.sk-hidden--visually {border: 0;clip: rect(1px 1px 1px 1px);clip: rect(1px, 1px, 1px, 1px);height: 1px;margin: -1px;overflow: hidden;padding: 0;position: absolute;width: 1px;}#sk-container-id-1 div.sk-estimator {font-family: monospace;background-color: #f0f8ff;border: 1px dotted black;border-radius: 0.25em;box-sizing: border-box;margin-bottom: 0.5em;}#sk-container-id-1 div.sk-estimator:hover {background-color: #d4ebff;}#sk-container-id-1 div.sk-parallel-item::after {content: \"\";width: 100%;border-bottom: 1px solid gray;flex-grow: 1;}#sk-container-id-1 div.sk-label:hover label.sk-toggleable__label {background-color: #d4ebff;}#sk-container-id-1 div.sk-serial::before {content: \"\";position: absolute;border-left: 1px solid gray;box-sizing: border-box;top: 0;bottom: 0;left: 50%;z-index: 0;}#sk-container-id-1 div.sk-serial {display: flex;flex-direction: column;align-items: center;background-color: white;padding-right: 0.2em;padding-left: 0.2em;position: relative;}#sk-container-id-1 div.sk-item {position: relative;z-index: 1;}#sk-container-id-1 div.sk-parallel {display: flex;align-items: stretch;justify-content: center;background-color: white;position: relative;}#sk-container-id-1 div.sk-item::before, #sk-container-id-1 div.sk-parallel-item::before {content: \"\";position: absolute;border-left: 1px solid gray;box-sizing: border-box;top: 0;bottom: 0;left: 50%;z-index: -1;}#sk-container-id-1 div.sk-parallel-item {display: flex;flex-direction: column;z-index: 1;position: relative;background-color: white;}#sk-container-id-1 div.sk-parallel-item:first-child::after {align-self: flex-end;width: 50%;}#sk-container-id-1 div.sk-parallel-item:last-child::after {align-self: flex-start;width: 50%;}#sk-container-id-1 div.sk-parallel-item:only-child::after {width: 0;}#sk-container-id-1 div.sk-dashed-wrapped {border: 1px dashed gray;margin: 0 0.4em 0.5em 0.4em;box-sizing: border-box;padding-bottom: 0.4em;background-color: white;}#sk-container-id-1 div.sk-label label {font-family: monospace;font-weight: bold;display: inline-block;line-height: 1.2em;}#sk-container-id-1 div.sk-label-container {text-align: center;}#sk-container-id-1 div.sk-container {/* jupyter's `normalize.less` sets `[hidden] { display: none; }` but bootstrap.min.css set `[hidden] { display: none !important; }` so we also need the `!important` here to be able to override the default hidden behavior on the sphinx rendered scikit-learn.org. See: https://github.com/scikit-learn/scikit-learn/issues/21755 */display: inline-block !important;position: relative;}#sk-container-id-1 div.sk-text-repr-fallback {display: none;}</style><div id=\"sk-container-id-1\" class=\"sk-top-container\"><div class=\"sk-text-repr-fallback\"><pre>LinearRegression()</pre><b>In a Jupyter environment, please rerun this cell to show the HTML representation or trust the notebook. <br />On GitHub, the HTML representation is unable to render, please try loading this page with nbviewer.org.</b></div><div class=\"sk-container\" hidden><div class=\"sk-item\"><div class=\"sk-estimator sk-toggleable\"><input class=\"sk-toggleable__control sk-hidden--visually\" id=\"sk-estimator-id-1\" type=\"checkbox\" checked><label for=\"sk-estimator-id-1\" class=\"sk-toggleable__label sk-toggleable__label-arrow\">LinearRegression</label><div class=\"sk-toggleable__content\"><pre>LinearRegression()</pre></div></div></div></div></div>"
      ],
      "text/plain": [
       "LinearRegression()"
      ]
     },
     "execution_count": 47,
     "metadata": {},
     "output_type": "execute_result"
    }
   ],
   "source": [
    "LR.fit(x_train,y_train)"
   ]
  },
  {
   "cell_type": "markdown",
   "id": "c7dcac8b",
   "metadata": {},
   "source": [
    "# Test the model"
   ]
  },
  {
   "cell_type": "code",
   "execution_count": 48,
   "id": "926c0e83",
   "metadata": {},
   "outputs": [
    {
     "data": {
      "text/plain": [
       "array([ 41.79651469,  35.44897396,  32.32182941,  62.15230947,\n",
       "        97.15499   , 102.74527464,  57.52904542,  18.50596884,\n",
       "        28.90050195,  90.05616474,  90.63951146,  25.17877999,\n",
       "        21.47607213,  56.15450717,  65.58284431,  68.81365504,\n",
       "        85.74449988,  31.45756756,  76.51559556,  42.98039276,\n",
       "        38.70178627,  23.89238204,  36.61730406,  57.67164216,\n",
       "        29.74845621,  86.65460588,  33.53032334,  29.31235764,\n",
       "       100.75984295,  28.3364555 ,  37.02836966,  88.57006476,\n",
       "       101.81449573,  93.23392219,  94.16104415,  58.75918464,\n",
       "        93.31570423,  49.53263905,  46.78164703,  91.618992  ,\n",
       "        64.85923756,  63.89021447,  98.96847593,  22.93975353,\n",
       "        41.82689378,  24.95860094,  65.82297944,  33.18229176,\n",
       "        96.7187877 ,  70.4300092 ,  59.76768524,  70.1173078 ,\n",
       "        69.1581952 ,  40.54244593,  30.19338393,  94.32293272,\n",
       "        95.33656664,  64.12923371, 102.85955135,  76.19945402])"
      ]
     },
     "execution_count": 48,
     "metadata": {},
     "output_type": "execute_result"
    }
   ],
   "source": [
    "pred=LR.predict(x_test)\n",
    "pred"
   ]
  },
  {
   "cell_type": "code",
   "execution_count": 49,
   "id": "652f9a51",
   "metadata": {},
   "outputs": [
    {
     "data": {
      "text/plain": [
       "array([ 41,  35,  32,  62,  97, 102,  57,  18,  28,  90,  90,  25,  21,\n",
       "        56,  65,  68,  85,  31,  76,  42,  38,  23,  36,  57,  29,  86,\n",
       "        33,  29, 100,  28,  37,  88, 101,  93,  94,  58,  93,  49,  46,\n",
       "        91,  64,  63,  98,  22,  41,  24,  65,  33,  96,  70,  59,  70,\n",
       "        69,  40,  30,  94,  95,  64, 102,  76])"
      ]
     },
     "execution_count": 49,
     "metadata": {},
     "output_type": "execute_result"
    }
   ],
   "source": [
    "pred.astype(int)"
   ]
  },
  {
   "cell_type": "code",
   "execution_count": 50,
   "id": "8f1862ac",
   "metadata": {},
   "outputs": [
    {
     "data": {
      "text/plain": [
       "58      46\n",
       "40      38\n",
       "34      33\n",
       "102     62\n",
       "184     99\n",
       "198    137\n",
       "95      60\n",
       "4       17\n",
       "29      29\n",
       "168     87\n",
       "171     87\n",
       "18      23\n",
       "11      19\n",
       "89      58\n",
       "110     63\n",
       "118     67\n",
       "159     78\n",
       "35      33\n",
       "136     73\n",
       "59      46\n",
       "51      42\n",
       "16      21\n",
       "44      39\n",
       "94      60\n",
       "31      30\n",
       "162     81\n",
       "38      37\n",
       "28      29\n",
       "193    113\n",
       "27      28\n",
       "47      40\n",
       "165     85\n",
       "194    120\n",
       "177     88\n",
       "176     88\n",
       "97      60\n",
       "174     88\n",
       "73      50\n",
       "69      48\n",
       "172     87\n",
       "108     63\n",
       "107     63\n",
       "189    103\n",
       "14      20\n",
       "56      44\n",
       "19      23\n",
       "114     65\n",
       "39      37\n",
       "185     99\n",
       "124     70\n",
       "98      61\n",
       "123     69\n",
       "119     67\n",
       "53      43\n",
       "33      33\n",
       "179     93\n",
       "181     97\n",
       "106     63\n",
       "199    137\n",
       "138     74\n",
       "Name: Annual Income (k$), dtype: int64"
      ]
     },
     "execution_count": 50,
     "metadata": {},
     "output_type": "execute_result"
    }
   ],
   "source": [
    "y_test"
   ]
  },
  {
   "cell_type": "markdown",
   "id": "8e7ef7a2",
   "metadata": {},
   "source": [
    "# Measure the performance using Evaluation Metrics."
   ]
  },
  {
   "cell_type": "code",
   "execution_count": 51,
   "id": "30181fea",
   "metadata": {},
   "outputs": [
    {
     "data": {
      "text/plain": [
       "0.923427414975786"
      ]
     },
     "execution_count": 51,
     "metadata": {},
     "output_type": "execute_result"
    }
   ],
   "source": [
    "from sklearn.metrics import r2_score\n",
    "score=r2_score(pred,y_test)\n",
    "score"
   ]
  },
  {
   "cell_type": "code",
   "execution_count": null,
   "id": "ea132e21",
   "metadata": {},
   "outputs": [],
   "source": []
  }
 ],
 "metadata": {
  "kernelspec": {
   "display_name": "Python 3 (ipykernel)",
   "language": "python",
   "name": "python3"
  },
  "language_info": {
   "codemirror_mode": {
    "name": "ipython",
    "version": 3
   },
   "file_extension": ".py",
   "mimetype": "text/x-python",
   "name": "python",
   "nbconvert_exporter": "python",
   "pygments_lexer": "ipython3",
   "version": "3.10.2"
  }
 },
 "nbformat": 4,
 "nbformat_minor": 5
}
